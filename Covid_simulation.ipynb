{
 "cells": [
  {
   "cell_type": "markdown",
   "metadata": {},
   "source": [
    "# 1. Set up/import"
   ]
  },
  {
   "cell_type": "code",
   "execution_count": 1,
   "metadata": {},
   "outputs": [],
   "source": [
    "#pip install spicy\n",
    "#pip install plotly\n",
    "#pip install matplotlib"
   ]
  },
  {
   "cell_type": "code",
   "execution_count": 2,
   "metadata": {},
   "outputs": [
    {
     "name": "stderr",
     "output_type": "stream",
     "text": [
      "\n",
      "Bad key \"text.kerning_factor\" on line 4 in\n",
      "C:\\Users\\giang\\miniconda3\\lib\\site-packages\\matplotlib\\mpl-data\\stylelib\\_classic_test_patch.mplstyle.\n",
      "You probably need to get an updated matplotlibrc file from\n",
      "https://github.com/matplotlib/matplotlib/blob/v3.1.2/matplotlibrc.template\n",
      "or from the matplotlib source distribution\n"
     ]
    }
   ],
   "source": [
    "import pandas as pds\n",
    "import spicy\n",
    "import random\n",
    "import time\n",
    "import datetime\n",
    "import matplotlib.pyplot as plt\n",
    "import warnings\n",
    "import numpy as np\n",
    "import plotly.graph_objs as go\n",
    "from IPython.display import HTML\n",
    "from plotly.subplots import make_subplots\n",
    "import plotly\n",
    "import unittest"
   ]
  },
  {
   "cell_type": "code",
   "execution_count": null,
   "metadata": {},
   "outputs": [],
   "source": []
  },
  {
   "cell_type": "markdown",
   "metadata": {},
   "source": [
    "# 2. Common parameter/data defining"
   ]
  },
  {
   "cell_type": "code",
   "execution_count": 3,
   "metadata": {},
   "outputs": [],
   "source": [
    "#basic reroduction rate\n",
    "R_0 = 2.36 #taking data from US (CRI) in 2020.\n",
    "\n",
    "#recovery rate (taking average of 21 days from known data)\n",
    "RT = 21\n",
    "gamma = 1/RT\n",
    "beta = R_0 * gamma\n",
    "\n",
    "#incubation period\n",
    "incubation = 9.55\n",
    "\n",
    "#hospitalization time\n",
    "#h2d: day till death while receiving treatment\n",
    "h2d = 10.23\n",
    "#h2rd: recovery date while receiving treatment\n",
    "h2r = 12.1\n",
    "#system onset to death\n",
    "s2d = 16.85 \n",
    "\n",
    "#hospitalization recovery rate\n",
    "g_hc = 1/h2r\n",
    "time2criticaldeath = s2d* 0.9\n",
    "\n",
    "#reporting rate (taking china value since only that available)\n",
    "rr = 0.75\n"
   ]
  },
  {
   "cell_type": "code",
   "execution_count": 4,
   "metadata": {},
   "outputs": [],
   "source": [
    "#other required state data, using MA data from https://github.com/CSSEGISandData/COVID-19/blob/master/csse_covid_19_data/csse_covid_19_daily_reports_us/04-16-2021.csv\n",
    "N = 6912240\n",
    "\n",
    "#active (I) = confirmed (C) - recovered (R) - deaths (D)\n",
    "C0 = 669282\n",
    "D0 = 17445\n",
    "R0 = 52000 #this number is made up\n",
    "I0 = C0 - R0 -D0\n",
    "E0 = int(I0*rr)\n",
    "#S + E +I +R +D = N\n",
    "S0 = N - E0 - I0 - R0 -D0\n",
    "\n",
    "\n",
    "#hospitalization rate, taking arbitrary number of 10.23\n",
    "hr = 10.23"
   ]
  },
  {
   "cell_type": "code",
   "execution_count": 5,
   "metadata": {},
   "outputs": [
    {
     "name": "stdout",
     "output_type": "stream",
     "text": [
      "Total population is 6912240\n",
      "Current Susceptible population is 5793081\n",
      "Current Exposed population is 449877\n",
      "Current Actice cases is 599837\n",
      "Current Recovered cases is 52000\n",
      "Current Deaths is 17445\n"
     ]
    }
   ],
   "source": [
    "print(f'Total population is {N}')\n",
    "print(f'Current Susceptible population is {S0}')\n",
    "print(f'Current Exposed population is {E0}')\n",
    "print(f'Current Actice cases is {I0}')\n",
    "print(f'Current Recovered cases is {R0}')\n",
    "print(f'Current Deaths is {D0}')"
   ]
  },
  {
   "cell_type": "code",
   "execution_count": null,
   "metadata": {},
   "outputs": [],
   "source": []
  },
  {
   "cell_type": "markdown",
   "metadata": {},
   "source": [
    "# 3. Modeling"
   ]
  },
  {
   "cell_type": "markdown",
   "metadata": {},
   "source": [
    "## 3.1 SEIR model (base)\n",
    "N (population) = S(Susceptible) + E(Exposed) + I(Infected)+ R(Recovered)"
   ]
  },
  {
   "cell_type": "code",
   "execution_count": 6,
   "metadata": {},
   "outputs": [
    {
     "name": "stdout",
     "output_type": "stream",
     "text": [
      "Day 1 Susceptible population is 5736598\n",
      "Day 1 Exposed population is 458924\n",
      "Day 1 Actice cases is 618703\n",
      "Day 1 Recovered cases is 80570\n"
     ]
    }
   ],
   "source": [
    "#Virus simulation for 1 day (from day 0 to day 1)\n",
    "\n",
    "prob_e = beta*I0/N # probability of an individual go from S to E\n",
    "new_e = np.sum(np.random.rand(S0) < prob_e) #calculate number of new people gettting exposed\n",
    "S1 = S0 - new_e #new S population after a portion getting exposed\n",
    "prob_i = 1/incubation # probability of an individual go from E to I\n",
    "new_i = np.sum(np.random.rand(E0) < prob_i) #calculate number of new people gettting infected\n",
    "prob_r = gamma # probability of an individual go from I to R\n",
    "new_r = np.sum(np.random.rand(I0) < prob_r)\n",
    "E1 = E0 + new_e - new_i\n",
    "I1 = I0 + new_i - new_r\n",
    "R1 = R0 + new_r\n",
    "\n",
    "print(f'Day 1 Susceptible population is {S1}')\n",
    "print(f'Day 1 Exposed population is {E1}')\n",
    "print(f'Day 1 Actice cases is {I1}')\n",
    "print(f'Day 1 Recovered cases is {R1}')"
   ]
  },
  {
   "cell_type": "code",
   "execution_count": 8,
   "metadata": {},
   "outputs": [],
   "source": [
    "##Virus simulation for 60 days without any policies\n",
    "S, E, I, R = np.zeros(60), np.zeros(60), np.zeros(60), np.zeros(60)\n",
    "\n",
    "S[0], E[0], I[0], R[0] = S0, E0, I0, R0\n",
    "\n",
    "\n",
    "for i in range(1, 60):\n",
    "    prob_e = beta*I[i-1]/N\n",
    "    new_e = np.sum(np.random.rand(int(S[i-1])) < prob_e)\n",
    "    S[i] = S[i-1] - new_e\n",
    "    prob_i = 1/incubation\n",
    "    new_i = np.sum(np.random.rand(int(E[i-1])) < prob_i)\n",
    "    prob_r = gamma\n",
    "    new_r = np.sum(np.random.rand(int(I[i-1])) < prob_r)\n",
    "    E[i] = E[i-1] + new_e - new_i\n",
    "    I[i] = I[i-1] + new_i -new_r\n",
    "    R[i] = R[i-1] + new_r\n",
    "    \n",
    "#display(S, E, I, R)"
   ]
  },
  {
   "cell_type": "code",
   "execution_count": 9,
   "metadata": {},
   "outputs": [],
   "source": [
    "#including social_distancing factor (sd) where 0 = no social distance and 1 = locked down (no infection)\n",
    "#sd [0,1]\n",
    "\n",
    "def SEIR_simulation(S0, E0, I0, R0, period=60, sd=0):\n",
    "    S, E, I, R = np.zeros(period), np.zeros(period), np.zeros(period), np.zeros(period)\n",
    "    \n",
    "    S[0], E[0], I[0], R[0] = S0, E0, I0, R0\n",
    "    \n",
    "    for i in range(1, period):\n",
    "        prob_e = beta*I[i-1]*(1-sd)/N #add in social distancing factor\n",
    "        new_e = np.sum(np.random.rand(int(S[i-1])) < prob_e)\n",
    "        S[i] = S[i-1] - new_e\n",
    "        prob_i = 1/incubation\n",
    "        new_i = np.sum(np.random.rand(int(E[i-1])) < prob_i)\n",
    "        prob_r = gamma\n",
    "        new_r = np.sum(np.random.rand(int(I[i-1])) < prob_r)\n",
    "        E[i] = E[i-1] + new_e - new_i\n",
    "        I[i] = I[i-1] + new_i -new_r\n",
    "        R[i] = R[i-1] + new_r\n",
    "    return S, E, I, R"
   ]
  },
  {
   "cell_type": "code",
   "execution_count": 10,
   "metadata": {},
   "outputs": [
    {
     "data": {
      "text/plain": [
       "<function matplotlib.pyplot.show(*args, **kw)>"
      ]
     },
     "execution_count": 10,
     "metadata": {},
     "output_type": "execute_result"
    },
    {
     "data": {
      "image/png": "[encoded data removed]",
      "text/plain": [
       "<Figure size 432x288 with 1 Axes>"
      ]
     },
     "metadata": {
      "needs_background": "light"
     },
     "output_type": "display_data"
    }
   ],
   "source": [
    "#try simulate for 4 months with no social distancing\n",
    "S, E, I, R = SEIR_simulation(S0, E0, I0, R0, 120, 0)\n",
    "plt.plot(I, label=\"infected number\")\n",
    "plt.plot(R, label=\"recovered numeber\")\n",
    "plt.title('0% Social Distance')\n",
    "plt.xlabel('Days')\n",
    "plt.ylabel('Cases')\n",
    "plt.legend()\n",
    "plt.show"
   ]
  },
  {
   "cell_type": "code",
   "execution_count": 11,
   "metadata": {},
   "outputs": [
    {
     "data": {
      "text/plain": [
       "<function matplotlib.pyplot.show(*args, **kw)>"
      ]
     },
     "execution_count": 11,
     "metadata": {},
     "output_type": "execute_result"
    },
    {
     "data": {
      "image/png": "[encoded data removed]",
      "text/plain": [
       "<Figure size 432x288 with 1 Axes>"
      ]
     },
     "metadata": {
      "needs_background": "light"
     },
     "output_type": "display_data"
    }
   ],
   "source": [
    "#try simulate for 4 months with 50% social distancing\n",
    "S, E, I, R = SEIR_simulation(S0, E0, I0, R0, 120, 0.5)\n",
    "plt.plot(I, label=\"infected number\")\n",
    "plt.plot(R, label=\"recovered numeber\")\n",
    "plt.title('50% Social Distance')\n",
    "plt.xlabel('Days')\n",
    "plt.ylabel('Cases')\n",
    "plt.legend()\n",
    "plt.show"
   ]
  },
  {
   "cell_type": "markdown",
   "metadata": {},
   "source": [
    "# 3.2 Assuming we make people use mask with efficacy of 30%"
   ]
  },
  {
   "cell_type": "code",
   "execution_count": 12,
   "metadata": {},
   "outputs": [],
   "source": [
    "#Assume mask wil reduce the number of virus reproduction number, thus lower R and beta number.\n",
    "R_1 = R_0*0.7\n",
    "beta_1 = R_1 *gamma\n",
    "#display(R_1, beta_1, R_0, beta)"
   ]
  },
  {
   "cell_type": "code",
   "execution_count": 13,
   "metadata": {},
   "outputs": [],
   "source": [
    "def SEIR_simulation_with_mask(S0, E0, I0, R0, period=60, sd=0):\n",
    "    S, E, I, R = np.zeros(period), np.zeros(period), np.zeros(period), np.zeros(period)\n",
    "    \n",
    "    S[0], E[0], I[0], R[0] = S0, E0, I0, R0\n",
    "    \n",
    "    for i in range(1, period):\n",
    "        prob_e = beta_1*I[i-1]*(1-sd)/N #add in social distancing factor\n",
    "        new_e = np.sum(np.random.rand(int(S[i-1])) < prob_e)\n",
    "        S[i] = S[i-1] - new_e\n",
    "        prob_i = 1/incubation\n",
    "        new_i = np.sum(np.random.rand(int(E[i-1])) < prob_i)\n",
    "        prob_r = gamma\n",
    "        new_r = np.sum(np.random.rand(int(I[i-1])) < prob_r)\n",
    "        E[i] = E[i-1] + new_e - new_i\n",
    "        I[i] = I[i-1] + new_i -new_r\n",
    "        R[i] = R[i-1] + new_r\n",
    "    return S, E, I, R"
   ]
  },
  {
   "cell_type": "code",
   "execution_count": 14,
   "metadata": {},
   "outputs": [
    {
     "data": {
      "text/plain": [
       "<function matplotlib.pyplot.show(*args, **kw)>"
      ]
     },
     "execution_count": 14,
     "metadata": {},
     "output_type": "execute_result"
    },
    {
     "data": {
      "image/png": "[encoded data removed]",
      "text/plain": [
       "<Figure size 432x288 with 1 Axes>"
      ]
     },
     "metadata": {
      "needs_background": "light"
     },
     "output_type": "display_data"
    }
   ],
   "source": [
    "S, E, I, R = SEIR_simulation_with_mask(S0, E0, I0, R0, 120,0)\n",
    "plt.plot(I, label=\"infected number\")\n",
    "plt.plot(R, label=\"recovered numeber\")\n",
    "plt.title('0% Social Distance')\n",
    "plt.xlabel('Days')\n",
    "plt.ylabel('Cases')\n",
    "plt.legend()\n",
    "plt.show"
   ]
  },
  {
   "cell_type": "code",
   "execution_count": 15,
   "metadata": {},
   "outputs": [
    {
     "data": {
      "text/plain": [
       "<function matplotlib.pyplot.show(*args, **kw)>"
      ]
     },
     "execution_count": 15,
     "metadata": {},
     "output_type": "execute_result"
    },
    {
     "data": {
      "image/png": "[encoded data removed]",
      "text/plain": [
       "<Figure size 432x288 with 1 Axes>"
      ]
     },
     "metadata": {
      "needs_background": "light"
     },
     "output_type": "display_data"
    }
   ],
   "source": [
    "S, E, I, R = SEIR_simulation_with_mask(S0, E0, I0, R0, 120, 0.5)\n",
    "plt.plot(I, label=\"infected number\")\n",
    "plt.plot(R, label=\"recovered numeber\")\n",
    "plt.title('50% Social Distance')\n",
    "plt.xlabel('Days')\n",
    "plt.ylabel('Cases')\n",
    "plt.legend()\n",
    "plt.show"
   ]
  },
  {
   "cell_type": "markdown",
   "metadata": {},
   "source": [
    "# 3.3 SEIR + mask + hospitalization + vaccination\n",
    "\n",
    "Now we build a SEIR + improvement model to consider three policy factors together: social distancing, hospitalization capacity increase and vaccine injection"
   ]
  },
  {
   "cell_type": "code",
   "execution_count": 16,
   "metadata": {},
   "outputs": [
    {
     "data": {
      "text/plain": [
       "(0.03, 0.047619047619047616, 0.08264462809917356)"
      ]
     },
     "execution_count": 16,
     "metadata": {},
     "output_type": "execute_result"
    }
   ],
   "source": [
    "CR = 0.05 #chance that patient receive a critical illness from virus\n",
    "CDR = 1/time2criticaldeath #critical death rate for non-hospitalized patients\n",
    "CDR_h = 35775/832033 #critical death rate for hospitalized patients (from empirical data)\n",
    "MR = 0.01  #mortality rate\n",
    "\n",
    "#recovery rate for critically ill patient without hospitalization, mild patient without hospitalization, and critical patient with hospitalization\n",
    "gamma_m = gamma\n",
    "hospital_rate = 0.9\n",
    "gamma_c = 0.03\n",
    "gamma_c, gamma_m, g_hc"
   ]
  },
  {
   "cell_type": "code",
   "execution_count": 17,
   "metadata": {},
   "outputs": [],
   "source": [
    "#asssuming 25% of population is vaccinated -> vaccine_p = 0.25\n",
    "def SEIRHV_simulation_with_masks(S0, E0, I0, R0, D0, period=90, sd=0, h_capacity=0, vaccine_date=60, vaccine_p = 0.25):\n",
    "    \n",
    "    S = np.zeros(period)\n",
    "    E = np.zeros(period)\n",
    "    I_c = np.zeros(period)\n",
    "    I_m = np.zeros(period)\n",
    "    H = np.zeros(period) #hospitalization\n",
    "    R = np.zeros(period)\n",
    "    D = np.zeros(period)\n",
    "    V = np.zeros(period) #vaacine\n",
    "    \n",
    "    capacity = 15000 #https://www.mass.gov/doc/command-center-hospital-capacity-charts/download\n",
    "    H0 = 0 #hospitalized number\n",
    "    S0 = N - E0 - I0 - R0 - D0 - H0 # S+E+I+H+R+D=N\n",
    "\n",
    "    #simulate all critical ill patient ratios at one time\n",
    "    CR_all = np.random.normal(CR, 0.001, period)\n",
    "\n",
    "    S[0] = S0\n",
    "    E[0] = E0\n",
    "    I_c[0] = np.sum(np.random.rand(I0) < CR_all[0]) \n",
    "    I_m[0] = I0 - I_c[0] \n",
    "    H[0] = H0\n",
    "    R[0] = R0\n",
    "    D[0] = D0\n",
    "\n",
    "    rho = 2 #sensitivity factor for controling the hospital factor on different recovery rate  \n",
    "    \n",
    "    for i in range(1, period):\n",
    "        prob_e = beta_1*(I_c[i-1]+I_m[i-1])*(1-sd)/N\n",
    "        new_e = np.sum(np.random.rand(int(S[i-1])) < prob_e)\n",
    "        S[i] = S[i-1] - new_e\n",
    "        #after vaccine injection: affect expose rate\n",
    "        if i == vaccine_date:\n",
    "            S[i] = (1-vaccine_p) * S[i-1]\n",
    "            V[i] = vaccine_p * S[i-1]\n",
    "        prob_i = 1/incubation\n",
    "        new_i = np.sum(np.random.rand(int(E[i-1])) < prob_i)\n",
    "        E[i] = E[i-1] + new_e - new_i\n",
    "        \n",
    "        #divide two types of patients\n",
    "        new_i_c = np.sum(np.random.rand(new_i) < CR_all[i]) #critical patient\n",
    "        new_i_m = new_i - new_i_c #mild patient\n",
    "        \n",
    "        new_d_hc = np.sum(np.random.rand(max(int(H[i-int(h2d)]),0)) < CDR_h) if i>=int(h2d) else 0 #hospitalized critical death\n",
    "        new_d_c = np.sum(np.random.rand(max(int(I_c[i-int(s2d)]),0)) < CDR*(1-h_capacity))  if i>=int(s2d) else 0 #non-hospitalized critical death \n",
    "        new_d_m = np.sum(np.random.rand(max(int(I_m[i-int(s2d)]),0)) < MR*(1-h_capacity))  if i>=int(s2d) else 0 #non-hospitalized mild death\n",
    "\n",
    "        new_r_hc = np.sum(np.random.rand(max(int(H[i-int(h2r)]),0)) < g_hc*(1+h_capacity)) if i>=int(h2r) else 0  #hospitalized critical recovery\n",
    "        new_r_c = np.sum(np.random.rand(max(int(I_c[i-int(RT)]),0)) < gamma_c*(1+rho*h_capacity)) if i>=int(RT) else 0  #non-hospitalized critical recovery\n",
    "        new_r_m = np.sum(np.random.rand(max(int(I_m[i-int(RT)]),0)) < gamma_m*(1+rho*h_capacity)) if i>=int(RT) else 0  #non-hospitalized mild recovery\n",
    "        \n",
    "        D[i] = D[i-1] + new_d_hc + new_d_c + new_d_m\n",
    "\n",
    "        #check if hospital exceeding capacity\n",
    "        new_h = np.sum(np.random.rand(max(int(I_c[i-1]),0)) < hospital_rate) if H[i-1]<capacity else 0  \n",
    "                \n",
    "        I_m[i] = max(I_m[i-1] + new_i_m - new_r_m - new_d_m, 0)\n",
    "        I_c[i] = max(I_c[i-1] + new_i_c - new_h - new_r_c - new_d_c, 0)\n",
    "        H[i] = max(H[i-1] + new_h - new_d_hc - new_r_hc, 0)\n",
    "        R[i] = R[i-1] + new_r_hc + new_r_c + new_r_m\n",
    "    \n",
    "    \n",
    "    I = I_c + I_m    \n",
    "    return S, E, I, H, R, D"
   ]
  },
  {
   "cell_type": "code",
   "execution_count": 18,
   "metadata": {},
   "outputs": [
    {
     "data": {
      "image/png": "[encoded data removed]",
      "text/plain": [
       "<Figure size 432x288 with 1 Axes>"
      ]
     },
     "metadata": {
      "needs_background": "light"
     },
     "output_type": "display_data"
    }
   ],
   "source": [
    "S, E, I, H, R, D = SEIRHV_simulation_with_masks(S0, E0, I0, R0, D0, 120, 0, 0, 60, 0.25)\n",
    "plt.plot(I, label=\"infected number\")\n",
    "plt.plot(D, label=\"death number\")\n",
    "plt.plot(H, label=\"hospitalized number\")\n",
    "plt.hlines(15000, 0,120, label='hospital capacity')\n",
    "plt.vlines(60, 0, 1700000, label='vaccine date')\n",
    "plt.xlabel('Days')\n",
    "plt.ylabel('Cases')\n",
    "plt.legend()\n",
    "plt.show()"
   ]
  },
  {
   "cell_type": "code",
   "execution_count": null,
   "metadata": {},
   "outputs": [],
   "source": []
  },
  {
   "cell_type": "markdown",
   "metadata": {},
   "source": [
    "# 4. Compare 2 virus simulation"
   ]
  },
  {
   "cell_type": "markdown",
   "metadata": {},
   "source": [
    "# 4.1 SARS-CoV-2 (Covid-19)"
   ]
  },
  {
   "cell_type": "code",
   "execution_count": 19,
   "metadata": {},
   "outputs": [
    {
     "name": "stdout",
     "output_type": "stream",
     "text": [
      "initial state: 5793081 449877 599837 52000 17445\n",
      "parameter: 0.020839520838947943 0.10471204188481674 0.06594131223211341 0.04299709266339196 0.01 0.047619047619047616 0.03 0.08264462809917356 0.9 0.05\n"
     ]
    }
   ],
   "source": [
    "print(\"initial state:\", S0, E0, I0, R0, D0)\n",
    "print(\"parameter:\", prob_e, prob_i, CDR, CDR_h, MR, gamma, gamma_c, g_hc, hospital_rate, CR)"
   ]
  },
  {
   "cell_type": "code",
   "execution_count": 20,
   "metadata": {},
   "outputs": [
    {
     "data": {
      "text/plain": [
       "'Covid_social_distancing.html'"
      ]
     },
     "execution_count": 20,
     "metadata": {},
     "output_type": "execute_result"
    }
   ],
   "source": [
    "sd = [0, 0.25, 0.5, 0.75]\n",
    "fig = make_subplots(rows=1, cols=4, subplot_titles=(\"0% social distance\",\"25% social distance\",\"50% social distance\",\"75% social distance\"), shared_yaxes=True)\n",
    "for i in range(len(sd)):\n",
    "  S, E, I, H, R, D = SEIRHV_simulation_with_masks(S0, E0, I0, R0, D0, 120, sd[i], 0, 0, 0)\n",
    "  if i == 0:\n",
    "    fig.add_trace(go.Scatter(x=np.arange(120), y=I, name='Infectious', legendgroup='1',line=dict(color='Red')), row=1, col=i+1)\n",
    "    fig.add_trace(go.Scatter(x=np.arange(120), y=D, name='Death', legendgroup='2',line=dict(color='Blue')), row=1, col=i+1)\n",
    "    fig.add_trace(go.Scatter(x=np.arange(120), y=R, name='Recovered', legendgroup='3',line=dict(color='Green')), row=1, col=i+1)\n",
    "    fig.add_trace(go.Scatter(x=np.arange(120), y=H, name='Hospitalized', legendgroup='4',line=dict(color='Orange')), row=1, col=i+1)\n",
    "  else:\n",
    "    fig.add_trace(go.Scatter(x=np.arange(120), y=I, name='Infectious', legendgroup='1', showlegend=False,line=dict(color='Red')), row=1, col=i+1)\n",
    "    fig.add_trace(go.Scatter(x=np.arange(120), y=D, name='Death', legendgroup='2', showlegend=False,line=dict(color='Blue')), row=1, col=i+1)\n",
    "    fig.add_trace(go.Scatter(x=np.arange(120), y=R, name='Recovered', legendgroup='3', showlegend=False,line=dict(color='Green')), row=1, col=i+1)\n",
    "    fig.add_trace(go.Scatter(x=np.arange(120), y=H, name='Hospitalized', legendgroup='4', showlegend=False,line=dict(color='Orange')), row=1, col=i+1)\n",
    "fig.update_layout(title = 'Covid_social_distancing', xaxis_title=\"Days\",yaxis_title=\"Cases\")\n",
    "plotly.offline.plot(fig, filename='Covid_social_distancing.html')"
   ]
  },
  {
   "cell_type": "code",
   "execution_count": 21,
   "metadata": {},
   "outputs": [
    {
     "data": {
      "text/plain": [
       "'Covid_hospitalization.html'"
      ]
     },
     "execution_count": 21,
     "metadata": {},
     "output_type": "execute_result"
    }
   ],
   "source": [
    "\n",
    "h_capacity = [0, 0.25, 0.5, 0.75]\n",
    "fig = make_subplots(rows=1, cols=4, subplot_titles=(\"0% extra hospitalization capacity\",\"25% extra hospitalization capacity\",\"50% extra hospitalization capacity\",\"75% extra hospitalization capacity\"), shared_yaxes=True)\n",
    "for i in range(len(h_capacity)):\n",
    "  S, E, I, H, R, D = SEIRHV_simulation_with_masks(S0, E0, I0, R0, D0, 120, 0, h_capacity[i], 0, 0)\n",
    "  if i == 0:\n",
    "    fig.add_trace(go.Scatter(x=np.arange(120), y=I, name='Infectious', legendgroup='1',line=dict(color='Red')), row=1, col=i+1)\n",
    "    fig.add_trace(go.Scatter(x=np.arange(120), y=D, name='Death', legendgroup='2',line=dict(color='Blue')), row=1, col=i+1)\n",
    "    fig.add_trace(go.Scatter(x=np.arange(120), y=R, name='Recovered', legendgroup='3',line=dict(color='Green')), row=1, col=i+1)\n",
    "    fig.add_trace(go.Scatter(x=np.arange(120), y=H, name='Hospitalized', legendgroup='4',line=dict(color='Orange')), row=1, col=i+1)\n",
    "  else:\n",
    "    fig.add_trace(go.Scatter(x=np.arange(120), y=I, name='Infectious', legendgroup='1', showlegend=False,line=dict(color='Red')), row=1, col=i+1)\n",
    "    fig.add_trace(go.Scatter(x=np.arange(120), y=D, name='Death', legendgroup='2', showlegend=False,line=dict(color='Blue')), row=1, col=i+1)\n",
    "    fig.add_trace(go.Scatter(x=np.arange(120), y=R, name='Recovered', legendgroup='3', showlegend=False,line=dict(color='Green')), row=1, col=i+1)\n",
    "    fig.add_trace(go.Scatter(x=np.arange(120), y=H, name='Hospitalized', legendgroup='4', showlegend=False,line=dict(color='Orange')), row=1, col=i+1)\n",
    "fig.update_layout(title = 'Covid_hospitalization', xaxis_title=\"Days\",yaxis_title=\"Cases\")\n",
    "plotly.offline.plot(fig, filename='Covid_hospitalization.html')"
   ]
  },
  {
   "cell_type": "code",
   "execution_count": 22,
   "metadata": {},
   "outputs": [
    {
     "data": {
      "text/plain": [
       "'Covid_Vaccination.html'"
      ]
     },
     "execution_count": 22,
     "metadata": {},
     "output_type": "execute_result"
    }
   ],
   "source": [
    "dates = [30, 60, 90]\n",
    "fig = make_subplots(rows=1, cols=3, subplot_titles=(\"vaccine at day 30\",\"vaccine at day 60\",\"vaccine at day 90\"), shared_yaxes=True)\n",
    "for i in range(len(dates)):\n",
    "  S, E, I, H, R, D = SEIRHV_simulation_with_masks(S0, E0, I0, R0, D0, 120, 0, 0, dates[i], 0.5)\n",
    "  if i == 0:\n",
    "    fig.add_trace(go.Scatter(x=np.arange(120), y=I, name='Infectious', legendgroup='1',line=dict(color='Red')), row=1, col=i+1)\n",
    "    fig.add_trace(go.Scatter(x=np.arange(120), y=D, name='Death', legendgroup='2',line=dict(color='Blue')), row=1, col=i+1)\n",
    "    fig.add_trace(go.Scatter(x=np.arange(120), y=R, name='Recovered', legendgroup='3',line=dict(color='Green')), row=1, col=i+1)\n",
    "    fig.add_trace(go.Scatter(x=np.arange(120), y=H, name='Hospitalized', legendgroup='4',line=dict(color='Orange')), row=1, col=i+1)\n",
    "    fig.add_shape(go.layout.Shape(type=\"line\",\n",
    "                                        yref=\"y\",\n",
    "                                        xref=\"x\",\n",
    "                                        x0=dates[i],\n",
    "                                        y0=0,\n",
    "                                        x1=dates[i],\n",
    "                                        y1=max(I+D+R),\n",
    "                                        #line=dict(color=\"RoyalBlue\", width=3),),\n",
    "                                        line=dict(color='Grey', width=3),),row=1,col=i+1)\n",
    "    \n",
    "  else:\n",
    "    fig.add_trace(go.Scatter(x=np.arange(120), y=I, name='Infectious', legendgroup='1', showlegend=False,line=dict(color='Red')), row=1, col=i+1)\n",
    "    fig.add_trace(go.Scatter(x=np.arange(120), y=D, name='Death', legendgroup='2', showlegend=False,line=dict(color='Blue')), row=1, col=i+1)\n",
    "    fig.add_trace(go.Scatter(x=np.arange(120), y=R, name='Recovered', legendgroup='3', showlegend=False,line=dict(color='Green')), row=1, col=i+1)\n",
    "    fig.add_trace(go.Scatter(x=np.arange(120), y=H, name='Hospitalized', legendgroup='4', showlegend=False,line=dict(color='Orange')), row=1, col=i+1)\n",
    "    fig.add_shape(go.layout.Shape(type=\"line\",\n",
    "                                        yref=\"y\",\n",
    "                                        xref=\"x\",\n",
    "                                        x0=dates[i],\n",
    "                                        y0=0,\n",
    "                                        x1=dates[i],\n",
    "                                        y1=max(I+D+R),\n",
    "                                        #line=dict(color=\"RoyalBlue\", width=3),),\n",
    "                                        line=dict(color='Grey', width=3),),row=1,col=i+1)\n",
    "    \n",
    "fig.update_layout(title = 'Covid_Vaccination', xaxis_title=\"Days\",yaxis_title=\"Cases\")\n",
    "plotly.offline.plot(fig, filename='Covid_Vaccination.html')"
   ]
  },
  {
   "cell_type": "markdown",
   "metadata": {},
   "source": [
    "# 4.2 2009 Flu (H1N1)\n",
    "refer to data in this page: https://www.researchgate.net/publication/40446592_Estimated_epidemiologic_parameters_and_morbidity_associated_with_pandemic_H1N1_influenza"
   ]
  },
  {
   "cell_type": "code",
   "execution_count": 23,
   "metadata": {},
   "outputs": [],
   "source": [
    "#setting new parameter\n",
    "#to keep comparision simple I will use the same population dataset\n",
    "incubation2 = 4.3\n",
    "RT2 = 7\n",
    "R_2 = 1.31\n",
    "beta_2 = R_2*1/RT2\n",
    "CDR2, CDR2_h, MR2 = 0.03, 0.025, 0.002\n",
    "gamma2, gamma2_c, gamma2_hc = 0.05, 0.07, 0.1\n",
    "CR2 = 0.02\n"
   ]
  },
  {
   "cell_type": "code",
   "execution_count": 24,
   "metadata": {},
   "outputs": [],
   "source": [
    "def SEIRHV_simulation2_with_masks(S0, E0, I0, R0, D0, period=90, sd=0, h_capacity=0, vaccine_date=60, vaccine_p = 0.25):\n",
    "    \n",
    "    S = np.zeros(period)\n",
    "    E = np.zeros(period)\n",
    "    I_c = np.zeros(period)\n",
    "    I_m = np.zeros(period)\n",
    "    H = np.zeros(period) #hospitalization\n",
    "    R = np.zeros(period)\n",
    "    D = np.zeros(period)\n",
    "    V = np.zeros(period) #vaacine\n",
    "    \n",
    "    capacity = 15000 #https://www.mass.gov/doc/command-center-hospital-capacity-charts/download\n",
    "    H0 = 0 #hospitalized number\n",
    "    S0 = N - E0 - I0 - R0 - D0 - H0 # S+E+I+H+R+D=N\n",
    "\n",
    "    #simulate all critical ill patient ratios at one time\n",
    "    CR_all = np.random.normal(CR2, 0.001, period)\n",
    "\n",
    "    S[0] = S0\n",
    "    E[0] = E0\n",
    "    I_c[0] = np.sum(np.random.rand(I0) < CR_all[0]) \n",
    "    I_m[0] = I0 - I_c[0] \n",
    "    H[0] = H0\n",
    "    R[0] = R0\n",
    "    D[0] = D0\n",
    "\n",
    "    rho = 2 #sensitivity factor for controling the hospital factor on different recovery rate  \n",
    "    \n",
    "    for i in range(1, period):\n",
    "        prob_e = beta_2*(I_c[i-1]+I_m[i-1])*(1-sd)/N\n",
    "        new_e = np.sum(np.random.rand(int(S[i-1])) < prob_e)\n",
    "        S[i] = S[i-1] - new_e\n",
    "        #after vaccine injection: affect expose rate\n",
    "        if i == vaccine_date:\n",
    "            S[i] = (1-vaccine_p) * S[i-1]\n",
    "            V[i] = vaccine_p * S[i-1]\n",
    "        prob_i = 1/incubation2\n",
    "        new_i = np.sum(np.random.rand(int(E[i-1])) < prob_i)\n",
    "        E[i] = E[i-1] + new_e - new_i\n",
    "        \n",
    "        #divide two types of patients\n",
    "        new_i_c = np.sum(np.random.rand(new_i) < CR_all[i]) #critical patient\n",
    "        new_i_m = new_i - new_i_c #mild patient\n",
    "        \n",
    "        new_d_hc = np.sum(np.random.rand(max(int(H[i-int(h2d)]),0)) < CDR2_h) if i>=int(h2d) else 0 #hospitalized critical death\n",
    "        new_d_c = np.sum(np.random.rand(max(int(I_c[i-int(s2d)]),0)) < CDR2*(1-h_capacity))  if i>=int(s2d) else 0 #non-hospitalized critical death \n",
    "        new_d_m = np.sum(np.random.rand(max(int(I_m[i-int(s2d)]),0)) < MR2*(1-h_capacity))  if i>=int(s2d) else 0 #non-hospitalized mild death\n",
    "\n",
    "        new_r_hc = np.sum(np.random.rand(max(int(H[i-int(h2r)]),0)) < gamma2_hc*(1+h_capacity)) if i>=int(h2r) else 0  #hospitalized critical recovery\n",
    "        new_r_c = np.sum(np.random.rand(max(int(I_c[i-int(RT)]),0)) < gamma2_c*(1+rho*h_capacity)) if i>=int(RT) else 0  #non-hospitalized critical recovery\n",
    "        new_r_m = np.sum(np.random.rand(max(int(I_m[i-int(RT)]),0)) < gamma2*(1+rho*h_capacity)) if i>=int(RT) else 0  #non-hospitalized mild recovery\n",
    "        \n",
    "        D[i] = D[i-1] + new_d_hc + new_d_c + new_d_m\n",
    "\n",
    "        #check if hospital exceeding capacity\n",
    "        new_h = np.sum(np.random.rand(max(int(I_c[i-1]),0)) < hospital_rate) if H[i-1]<capacity else 0  \n",
    "                \n",
    "        I_m[i] = max(I_m[i-1] + new_i_m - new_r_m - new_d_m, 0)\n",
    "        I_c[i] = max(I_c[i-1] + new_i_c - new_h - new_r_c - new_d_c, 0)\n",
    "        H[i] = max(H[i-1] + new_h - new_d_hc - new_r_hc, 0)\n",
    "        R[i] = R[i-1] + new_r_hc + new_r_c + new_r_m\n",
    "    \n",
    "    \n",
    "    I = I_c + I_m    \n",
    "    return S, E, I, H, R, D"
   ]
  },
  {
   "cell_type": "code",
   "execution_count": 25,
   "metadata": {},
   "outputs": [
    {
     "data": {
      "text/plain": [
       "'H1N1_social_distancing.html'"
      ]
     },
     "execution_count": 25,
     "metadata": {},
     "output_type": "execute_result"
    }
   ],
   "source": [
    "sd = [0, 0.25, 0.5, 0.75]\n",
    "fig = make_subplots(rows=1, cols=4, subplot_titles=(\"0% social distance\",\"25% social distance\",\"50% social distance\",\"75% social distance\"), shared_yaxes=True)\n",
    "for i in range(len(sd)):\n",
    "  S, E, I, H, R, D = SEIRHV_simulation2_with_masks(S0, E0, I0, R0, D0, 120, sd[i], 0, 0, 0)\n",
    "  if i == 0:\n",
    "    fig.add_trace(go.Scatter(x=np.arange(120), y=I, name='Infectious', legendgroup='1',line=dict(color='Red')), row=1, col=i+1)\n",
    "    fig.add_trace(go.Scatter(x=np.arange(120), y=D, name='Death', legendgroup='2',line=dict(color='Blue')), row=1, col=i+1)\n",
    "    fig.add_trace(go.Scatter(x=np.arange(120), y=R, name='Recovered', legendgroup='3',line=dict(color='Green')), row=1, col=i+1)\n",
    "    fig.add_trace(go.Scatter(x=np.arange(120), y=H, name='Hospitalized', legendgroup='4',line=dict(color='Orange')), row=1, col=i+1)\n",
    "  else:\n",
    "    fig.add_trace(go.Scatter(x=np.arange(120), y=I, name='Infectious', legendgroup='1', showlegend=False,line=dict(color='Red')), row=1, col=i+1)\n",
    "    fig.add_trace(go.Scatter(x=np.arange(120), y=D, name='Death', legendgroup='2', showlegend=False,line=dict(color='Blue')), row=1, col=i+1)\n",
    "    fig.add_trace(go.Scatter(x=np.arange(120), y=R, name='Recovered', legendgroup='3', showlegend=False,line=dict(color='Green')), row=1, col=i+1)\n",
    "    fig.add_trace(go.Scatter(x=np.arange(120), y=H, name='Hospitalized', legendgroup='4', showlegend=False,line=dict(color='Orange')), row=1, col=i+1)\n",
    "fig.update_layout(title = 'H1N1_social_distancing', xaxis_title=\"Days\",yaxis_title=\"Cases\")\n",
    "plotly.offline.plot(fig, filename='H1N1_social_distancing.html')"
   ]
  },
  {
   "cell_type": "code",
   "execution_count": 26,
   "metadata": {},
   "outputs": [
    {
     "data": {
      "text/plain": [
       "'H1N1_hospitalization.html'"
      ]
     },
     "execution_count": 26,
     "metadata": {},
     "output_type": "execute_result"
    }
   ],
   "source": [
    "h_capacity = [0, 0.25, 0.5, 0.75]\n",
    "fig = make_subplots(rows=1, cols=4, subplot_titles=(\"0% extra hospitalization capacity\",\"25% extra hospitalization capacity\",\"50% extra hospitalization capacity\",\"75% extra hospitalization capacity\"), shared_yaxes=True)\n",
    "for i in range(len(h_capacity)):\n",
    "  S, E, I, H, R, D = SEIRHV_simulation2_with_masks(S0, E0, I0, R0, D0, 120, 0, h_capacity[i], 0, 0)\n",
    "  if i == 0:\n",
    "    fig.add_trace(go.Scatter(x=np.arange(120), y=I, name='Infectious', legendgroup='1',line=dict(color='Red')), row=1, col=i+1)\n",
    "    fig.add_trace(go.Scatter(x=np.arange(120), y=D, name='Death', legendgroup='2',line=dict(color='Blue')), row=1, col=i+1)\n",
    "    fig.add_trace(go.Scatter(x=np.arange(120), y=R, name='Recovered', legendgroup='3',line=dict(color='Green')), row=1, col=i+1)\n",
    "    fig.add_trace(go.Scatter(x=np.arange(120), y=H, name='Hospitalized', legendgroup='4',line=dict(color='Orange')), row=1, col=i+1)\n",
    "  else:\n",
    "    fig.add_trace(go.Scatter(x=np.arange(120), y=I, name='Infectious', legendgroup='1', showlegend=False,line=dict(color='Red')), row=1, col=i+1)\n",
    "    fig.add_trace(go.Scatter(x=np.arange(120), y=D, name='Death', legendgroup='2', showlegend=False,line=dict(color='Blue')), row=1, col=i+1)\n",
    "    fig.add_trace(go.Scatter(x=np.arange(120), y=R, name='Recovered', legendgroup='3', showlegend=False,line=dict(color='Green')), row=1, col=i+1)\n",
    "    fig.add_trace(go.Scatter(x=np.arange(120), y=H, name='Hospitalized', legendgroup='4', showlegend=False,line=dict(color='Orange')), row=1, col=i+1)\n",
    "fig.update_layout(title = 'H1N1_hospitalization', xaxis_title=\"Days\",yaxis_title=\"Cases\")\n",
    "plotly.offline.plot(fig, filename='H1N1_hospitalization.html')"
   ]
  },
  {
   "cell_type": "code",
   "execution_count": 27,
   "metadata": {},
   "outputs": [
    {
     "data": {
      "text/plain": [
       "'H1N1_Vaccination.html'"
      ]
     },
     "execution_count": 27,
     "metadata": {},
     "output_type": "execute_result"
    }
   ],
   "source": [
    "dates = [30, 60, 90]\n",
    "fig = make_subplots(rows=1, cols=3, subplot_titles=(\"vaccine at day 30\",\"vaccine at day 60\",\"vaccine at day 90\"), shared_yaxes=True)\n",
    "for i in range(len(dates)):\n",
    "  S, E, I, H, R, D = SEIRHV_simulation2_with_masks(S0, E0, I0, R0, D0, 120, 0, 0, dates[i], 0.5)\n",
    "  if i == 0:\n",
    "    fig.add_trace(go.Scatter(x=np.arange(120), y=I, name='Infectious', legendgroup='1',line=dict(color='Red')), row=1, col=i+1)\n",
    "    fig.add_trace(go.Scatter(x=np.arange(120), y=D, name='Death', legendgroup='2',line=dict(color='Blue')), row=1, col=i+1)\n",
    "    fig.add_trace(go.Scatter(x=np.arange(120), y=R, name='Recovered', legendgroup='3',line=dict(color='Green')), row=1, col=i+1)\n",
    "    fig.add_trace(go.Scatter(x=np.arange(120), y=H, name='Hospitalized', legendgroup='4',line=dict(color='Orange')), row=1, col=i+1)\n",
    "    fig.add_shape(go.layout.Shape(type=\"line\",\n",
    "                                        yref=\"y\",\n",
    "                                        xref=\"x\",\n",
    "                                        x0=dates[i],\n",
    "                                        y0=0,\n",
    "                                        x1=dates[i],\n",
    "                                        y1=max(I+D+R),\n",
    "                                        #line=dict(color=\"RoyalBlue\", width=3),),\n",
    "                                        line=dict(color='Grey', width=3),),row=1,col=i+1)\n",
    "    \n",
    "  else:\n",
    "    fig.add_trace(go.Scatter(x=np.arange(120), y=I, name='Infectious', legendgroup='1', showlegend=False,line=dict(color='Red')), row=1, col=i+1)\n",
    "    fig.add_trace(go.Scatter(x=np.arange(120), y=D, name='Death', legendgroup='2', showlegend=False,line=dict(color='Blue')), row=1, col=i+1)\n",
    "    fig.add_trace(go.Scatter(x=np.arange(120), y=R, name='Recovered', legendgroup='3', showlegend=False,line=dict(color='Green')), row=1, col=i+1)\n",
    "    fig.add_trace(go.Scatter(x=np.arange(120), y=H, name='Hospitalized', legendgroup='4', showlegend=False,line=dict(color='Orange')), row=1, col=i+1)\n",
    "    fig.add_shape(go.layout.Shape(type=\"line\",\n",
    "                                        yref=\"y\",\n",
    "                                        xref=\"x\",\n",
    "                                        x0=dates[i],\n",
    "                                        y0=0,\n",
    "                                        x1=dates[i],\n",
    "                                        y1=max(I+D+R),\n",
    "                                        #line=dict(color=\"RoyalBlue\", width=3),),\n",
    "                                        line=dict(color='Grey', width=3),),row=1,col=i+1)\n",
    "    \n",
    "fig.update_layout(title = 'H1N1_Vaccination', xaxis_title=\"Days\",yaxis_title=\"Cases\")\n",
    "plotly.offline.plot(fig, filename='H1N1_Vaccination.html')"
   ]
  },
  {
   "cell_type": "markdown",
   "metadata": {},
   "source": [
    "# 5. Unit Test"
   ]
  },
  {
   "cell_type": "code",
   "execution_count": 28,
   "metadata": {},
   "outputs": [
    {
     "name": "stderr",
     "output_type": "stream",
     "text": [
      "....\n",
      "----------------------------------------------------------------------\n",
      "Ran 4 tests in 0.196s\n",
      "\n",
      "OK\n"
     ]
    }
   ],
   "source": [
    "#Unit Test\n",
    "class TestStringMethods(unittest.TestCase):\n",
    "\n",
    "    def test_SEIR_simulation(self):\n",
    "        S, E, I, R = SEIR_simulation(S0, E0, I0, R0, 1, 0)\n",
    "        self.assertEqual((S,E,I,R),(5793081,449877, 599837,52000))\n",
    "        \n",
    "    def test_SEIR_simulation_with_masks(self):\n",
    "        S, E, I, R = SEIR_simulation_with_mask(S0, E0, I0, R0, 2, 0.5)\n",
    "        self.assertLessEqual(int(S[1]), int(S[0]))\n",
    "        self.assertLessEqual(int(E[1]), int(E[0]))\n",
    "        self.assertLessEqual(int(I[0]), int(I[1]))\n",
    "        self.assertLessEqual(int(R[0]), int(R[1]))\n",
    "        \n",
    "    def test_SEIRHV_simulation_with_masks(self):\n",
    "        S, E, I, H, R, D = SEIRHV_simulation_with_masks(S0, E0, I0, R0, D0, 2,0,0, 60, 0.25)\n",
    "        self.assertLessEqual(int(S[1]), int(S[0]))\n",
    "        self.assertLessEqual(int(E[1]), int(E[0]))\n",
    "        self.assertLessEqual(int(I[0]), int(I[1]))\n",
    "        self.assertLessEqual(int(H[0]), int(H[1]))\n",
    "        self.assertEqual(int(R[0]), int(R[1]))\n",
    "        self.assertEqual(int(D[0]), int(D[1]))\n",
    "        \n",
    "    \n",
    "    def test_SEIRHV_simulation2_with_masks(self):\n",
    "        S, E, I, H, R, D = SEIRHV_simulation2_with_masks(S0, E0, I0, R0, D0, 2,0,0, 60, 0.25)\n",
    "        self.assertLessEqual(int(S[1]), int(S[0]))\n",
    "        self.assertLessEqual(int(E[1]), int(E[0]))\n",
    "        self.assertLessEqual(int(I[0]), int(I[1]))\n",
    "        self.assertLessEqual(int(H[0]), int(H[1]))\n",
    "        self.assertEqual(int(R[0]), int(R[1]))\n",
    "        self.assertEqual(int(D[0]), int(D[1]))\n",
    "        \n",
    "if __name__ == '__main__':\n",
    "    unittest.main(argv=['first-arg-is-ignored'], exit=False)"
   ]
  },
  {
   "cell_type": "code",
   "execution_count": null,
   "metadata": {},
   "outputs": [],
   "source": []
  }
 ],
 "metadata": {
  "kernelspec": {
   "display_name": "Python 3",
   "language": "python",
   "name": "python3"
  },
  "language_info": {
   "codemirror_mode": {
    "name": "ipython",
    "version": 3
   },
   "file_extension": ".py",
   "mimetype": "text/x-python",
   "name": "python",
   "nbconvert_exporter": "python",
   "pygments_lexer": "ipython3",
   "version": "3.7.0"
  }
 },
 "nbformat": 4,
 "nbformat_minor": 4
}
